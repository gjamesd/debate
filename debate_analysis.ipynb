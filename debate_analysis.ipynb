{
  "cells": [
    {
      "cell_type": "code",
      "execution_count": 1,
      "metadata": {
        "colab": {
          "base_uri": "https://localhost:8080/"
        },
        "id": "MuwTU8n-jE4A",
        "outputId": "6be3c955-f470-4ee4-a39f-387537816800"
      },
      "outputs": [
        {
          "output_type": "stream",
          "name": "stdout",
          "text": [
            "Collecting textstat\n",
            "  Downloading textstat-0.7.4-py3-none-any.whl.metadata (14 kB)\n",
            "Collecting pyphen (from textstat)\n",
            "  Downloading pyphen-0.16.0-py3-none-any.whl.metadata (3.2 kB)\n",
            "Requirement already satisfied: setuptools in /usr/local/lib/python3.10/dist-packages (from textstat) (75.1.0)\n",
            "Downloading textstat-0.7.4-py3-none-any.whl (105 kB)\n",
            "\u001b[2K   \u001b[90m━━━━━━━━━━━━━━━━━━━━━━━━━━━━━━━━━━━━━━━━\u001b[0m \u001b[32m105.1/105.1 kB\u001b[0m \u001b[31m1.3 MB/s\u001b[0m eta \u001b[36m0:00:00\u001b[0m\n",
            "\u001b[?25hDownloading pyphen-0.16.0-py3-none-any.whl (2.1 MB)\n",
            "\u001b[2K   \u001b[90m━━━━━━━━━━━━━━━━━━━━━━━━━━━━━━━━━━━━━━━━\u001b[0m \u001b[32m2.1/2.1 MB\u001b[0m \u001b[31m13.6 MB/s\u001b[0m eta \u001b[36m0:00:00\u001b[0m\n",
            "\u001b[?25hInstalling collected packages: pyphen, textstat\n",
            "Successfully installed pyphen-0.16.0 textstat-0.7.4\n",
            "Collecting vaderSentiment\n",
            "  Downloading vaderSentiment-3.3.2-py2.py3-none-any.whl.metadata (572 bytes)\n",
            "Requirement already satisfied: requests in /usr/local/lib/python3.10/dist-packages (from vaderSentiment) (2.32.3)\n",
            "Requirement already satisfied: charset-normalizer<4,>=2 in /usr/local/lib/python3.10/dist-packages (from requests->vaderSentiment) (3.4.0)\n",
            "Requirement already satisfied: idna<4,>=2.5 in /usr/local/lib/python3.10/dist-packages (from requests->vaderSentiment) (3.10)\n",
            "Requirement already satisfied: urllib3<3,>=1.21.1 in /usr/local/lib/python3.10/dist-packages (from requests->vaderSentiment) (2.2.3)\n",
            "Requirement already satisfied: certifi>=2017.4.17 in /usr/local/lib/python3.10/dist-packages (from requests->vaderSentiment) (2024.8.30)\n",
            "Downloading vaderSentiment-3.3.2-py2.py3-none-any.whl (125 kB)\n",
            "\u001b[2K   \u001b[90m━━━━━━━━━━━━━━━━━━━━━━━━━━━━━━━━━━━━━━━━\u001b[0m \u001b[32m126.0/126.0 kB\u001b[0m \u001b[31m1.3 MB/s\u001b[0m eta \u001b[36m0:00:00\u001b[0m\n",
            "\u001b[?25hInstalling collected packages: vaderSentiment\n",
            "Successfully installed vaderSentiment-3.3.2\n"
          ]
        },
        {
          "output_type": "stream",
          "name": "stderr",
          "text": [
            "[nltk_data] Downloading package stopwords to /root/nltk_data...\n",
            "[nltk_data]   Unzipping corpora/stopwords.zip.\n",
            "[nltk_data] Downloading package punkt_tab to /root/nltk_data...\n",
            "[nltk_data]   Unzipping tokenizers/punkt_tab.zip.\n"
          ]
        },
        {
          "output_type": "stream",
          "name": "stdout",
          "text": [
            "Collecting unidecode\n",
            "  Downloading Unidecode-1.3.8-py3-none-any.whl.metadata (13 kB)\n",
            "Downloading Unidecode-1.3.8-py3-none-any.whl (235 kB)\n",
            "\u001b[?25l   \u001b[90m━━━━━━━━━━━━━━━━━━━━━━━━━━━━━━━━━━━━━━━━\u001b[0m \u001b[32m0.0/235.5 kB\u001b[0m \u001b[31m?\u001b[0m eta \u001b[36m-:--:--\u001b[0m\r\u001b[2K   \u001b[91m━━━━━━━━━━━━━━━\u001b[0m\u001b[91m╸\u001b[0m\u001b[90m━━━━━━━━━━━━━━━━━━━━━━━━\u001b[0m \u001b[32m92.2/235.5 kB\u001b[0m \u001b[31m2.7 MB/s\u001b[0m eta \u001b[36m0:00:01\u001b[0m\r\u001b[2K   \u001b[90m━━━━━━━━━━━━━━━━━━━━━━━━━━━━━━━━━━━━━━━━\u001b[0m \u001b[32m235.5/235.5 kB\u001b[0m \u001b[31m3.7 MB/s\u001b[0m eta \u001b[36m0:00:00\u001b[0m\n",
            "\u001b[?25hInstalling collected packages: unidecode\n",
            "Successfully installed unidecode-1.3.8\n",
            "Collecting bar_chart_race\n",
            "  Downloading bar_chart_race-0.1.0-py3-none-any.whl.metadata (4.2 kB)\n",
            "Requirement already satisfied: pandas>=0.24 in /usr/local/lib/python3.10/dist-packages (from bar_chart_race) (2.2.2)\n",
            "Requirement already satisfied: matplotlib>=3.1 in /usr/local/lib/python3.10/dist-packages (from bar_chart_race) (3.7.1)\n",
            "Requirement already satisfied: contourpy>=1.0.1 in /usr/local/lib/python3.10/dist-packages (from matplotlib>=3.1->bar_chart_race) (1.3.0)\n",
            "Requirement already satisfied: cycler>=0.10 in /usr/local/lib/python3.10/dist-packages (from matplotlib>=3.1->bar_chart_race) (0.12.1)\n",
            "Requirement already satisfied: fonttools>=4.22.0 in /usr/local/lib/python3.10/dist-packages (from matplotlib>=3.1->bar_chart_race) (4.54.1)\n",
            "Requirement already satisfied: kiwisolver>=1.0.1 in /usr/local/lib/python3.10/dist-packages (from matplotlib>=3.1->bar_chart_race) (1.4.7)\n",
            "Requirement already satisfied: numpy>=1.20 in /usr/local/lib/python3.10/dist-packages (from matplotlib>=3.1->bar_chart_race) (1.26.4)\n",
            "Requirement already satisfied: packaging>=20.0 in /usr/local/lib/python3.10/dist-packages (from matplotlib>=3.1->bar_chart_race) (24.1)\n",
            "Requirement already satisfied: pillow>=6.2.0 in /usr/local/lib/python3.10/dist-packages (from matplotlib>=3.1->bar_chart_race) (10.4.0)\n",
            "Requirement already satisfied: pyparsing>=2.3.1 in /usr/local/lib/python3.10/dist-packages (from matplotlib>=3.1->bar_chart_race) (3.2.0)\n",
            "Requirement already satisfied: python-dateutil>=2.7 in /usr/local/lib/python3.10/dist-packages (from matplotlib>=3.1->bar_chart_race) (2.8.2)\n",
            "Requirement already satisfied: pytz>=2020.1 in /usr/local/lib/python3.10/dist-packages (from pandas>=0.24->bar_chart_race) (2024.2)\n",
            "Requirement already satisfied: tzdata>=2022.7 in /usr/local/lib/python3.10/dist-packages (from pandas>=0.24->bar_chart_race) (2024.2)\n",
            "Requirement already satisfied: six>=1.5 in /usr/local/lib/python3.10/dist-packages (from python-dateutil>=2.7->matplotlib>=3.1->bar_chart_race) (1.16.0)\n",
            "Downloading bar_chart_race-0.1.0-py3-none-any.whl (156 kB)\n",
            "\u001b[2K   \u001b[90m━━━━━━━━━━━━━━━━━━━━━━━━━━━━━━━━━━━━━━━━\u001b[0m \u001b[32m156.8/156.8 kB\u001b[0m \u001b[31m3.0 MB/s\u001b[0m eta \u001b[36m0:00:00\u001b[0m\n",
            "\u001b[?25hInstalling collected packages: bar_chart_race\n",
            "Successfully installed bar_chart_race-0.1.0\n"
          ]
        }
      ],
      "source": [
        "#importing libraries for data ingestion and manipulation\n",
        "import pandas as pd\n",
        "import numpy as np\n",
        "import plotly as px\n",
        "import seaborn as sns\n",
        "#Importing libraries for text analysis\n",
        "\n",
        "import textstat\n",
        "from tqdm import tqdm\n",
        "!pip install vaderSentiment\n",
        "from vaderSentiment.vaderSentiment import SentimentIntensityAnalyzer\n",
        "from textblob import TextBlob\n",
        "\n",
        "import nltk\n",
        "from nltk.corpus import stopwords\n",
        "from collections import Counter\n",
        "import re\n",
        "\n",
        "nltk.download(\"stopwords\")\n",
        "stop_words = set(stopwords.words('english'))\n",
        "tqdm.pandas()\n",
        "nltk.download('punkt_tab')\n",
        "#kmeans\n",
        "from sklearn.feature_extraction.text import TfidfVectorizer\n",
        "from sklearn.cluster import KMeans\n",
        "vectorizer = TfidfVectorizer(stop_words='english')\n",
        "from nltk import SnowballStemmer\n",
        "param_stemmer = SnowballStemmer('english')\n",
        "from nltk.tokenize import word_tokenize\n",
        "\n",
        "from unidecode import unidecode\n",
        "from sklearn import cluster\n",
        "\n",
        "#For bar chart\n",
        "import ast\n",
        "import bar_chart_race as bcr\n",
        "import matplotlib\n",
        "matplotlib.rcParams['animation.embed_limit'] = 2**128\n",
        "\n",
        "import warnings\n",
        "warnings.filterwarnings('ignore')"
      ]
    },
    {
      "cell_type": "code",
      "source": [],
      "metadata": {
        "id": "CHYPoeT5EBaj"
      },
      "execution_count": 3,
      "outputs": []
    },
    {
      "cell_type": "code",
      "execution_count": null,
      "metadata": {
        "id": "snLCci53jId0"
      },
      "outputs": [],
      "source": [
        "#read in csv data\n",
        "info_df = pd.read_excel(\"csv_files/Presidential Debates Topic Analysis.xlsx\",\n",
        "                     sheet_name = \"Sheet1\")\n",
        "headers = info_df.iloc[0]\n",
        "info_df  = pd.DataFrame(info_df.values[1:], columns=headers)"
      ]
    },
    {
      "cell_type": "code",
      "execution_count": null,
      "metadata": {
        "colab": {
          "base_uri": "https://localhost:8080/",
          "height": 306
        },
        "id": "qPnzD7ZTj8yb",
        "outputId": "38a217c5-00cc-410d-92d3-2592ab0edd1d"
      },
      "outputs": [
        {
          "data": {
            "application/vnd.google.colaboratory.intrinsic+json": {
              "summary": "{\n  \"name\": \"info_df\",\n  \"rows\": 176,\n  \"fields\": [\n    {\n      \"column\": \"Election Year\",\n      \"properties\": {\n        \"dtype\": \"date\",\n        \"min\": 1960,\n        \"max\": 2024,\n        \"num_unique_values\": 14,\n        \"samples\": [\n          1988,\n          1980,\n          2024\n        ],\n        \"semantic_type\": \"\",\n        \"description\": \"\"\n      }\n    },\n    {\n      \"column\": \"Date\",\n      \"properties\": {\n        \"dtype\": \"date\",\n        \"min\": \"1960-09-26 00:00:00\",\n        \"max\": \"2024-10-01 00:00:00\",\n        \"num_unique_values\": 167,\n        \"samples\": [\n          \"2007-09-09 00:00:00\",\n          \"2007-06-05 00:00:00\",\n          \"2008-09-26 00:00:00\"\n        ],\n        \"semantic_type\": \"\",\n        \"description\": \"\"\n      }\n    },\n    {\n      \"column\": \"Type\",\n      \"properties\": {\n        \"dtype\": \"category\",\n        \"num_unique_values\": 3,\n        \"samples\": [\n          \"General Election\",\n          \"Primary Election: Republican Party\",\n          \"Primary Election: Democratic Party\"\n        ],\n        \"semantic_type\": \"\",\n        \"description\": \"\"\n      }\n    },\n    {\n      \"column\": \"Debate Name\",\n      \"properties\": {\n        \"dtype\": \"string\",\n        \"num_unique_values\": 132,\n        \"samples\": [\n          \"Republican Candidates Debate in Tampa, Florida\",\n          \"Republican Candidates Forum in Baltimore, Maryland\",\n          \"Democratic Candidates Debate in Westerville, Ohio\"\n        ],\n        \"semantic_type\": \"\",\n        \"description\": \"\"\n      }\n    },\n    {\n      \"column\": \"URL\",\n      \"properties\": {\n        \"dtype\": \"string\",\n        \"num_unique_values\": 173,\n        \"samples\": [\n          \"https://www.presidency.ucsb.edu/documents/debate-between-the-president-and-former-vice-president-walter-f-mondale-louisville\",\n          \"https://www.presidency.ucsb.edu/documents/republican-candidates-undercard-debate-north-charleston-south-carolina\",\n          \"https://www.presidency.ucsb.edu/documents/democratic-presidential-candidates-debate-myrtle-beach-south-carolina\"\n        ],\n        \"semantic_type\": \"\",\n        \"description\": \"\"\n      }\n    },\n    {\n      \"column\": \"File name\",\n      \"properties\": {\n        \"dtype\": \"string\",\n        \"num_unique_values\": 175,\n        \"samples\": [\n          \"debate_158.txt\",\n          \"debate_147.txt\",\n          \"debate_103.txt\"\n        ],\n        \"semantic_type\": \"\",\n        \"description\": \"\"\n      }\n    }\n  ]\n}",
              "type": "dataframe",
              "variable_name": "info_df"
            },
            "text/html": [
              "\n",
              "  <div id=\"df-1be0c59e-bf3f-4ad1-9ba2-35fca40badc3\" class=\"colab-df-container\">\n",
              "    <div>\n",
              "<style scoped>\n",
              "    .dataframe tbody tr th:only-of-type {\n",
              "        vertical-align: middle;\n",
              "    }\n",
              "\n",
              "    .dataframe tbody tr th {\n",
              "        vertical-align: top;\n",
              "    }\n",
              "\n",
              "    .dataframe thead th {\n",
              "        text-align: right;\n",
              "    }\n",
              "</style>\n",
              "<table border=\"1\" class=\"dataframe\">\n",
              "  <thead>\n",
              "    <tr style=\"text-align: right;\">\n",
              "      <th></th>\n",
              "      <th>Election Year</th>\n",
              "      <th>Date</th>\n",
              "      <th>Type</th>\n",
              "      <th>Debate Name</th>\n",
              "      <th>URL</th>\n",
              "      <th>File name</th>\n",
              "    </tr>\n",
              "  </thead>\n",
              "  <tbody>\n",
              "    <tr>\n",
              "      <th>0</th>\n",
              "      <td>2024</td>\n",
              "      <td>2024-10-01</td>\n",
              "      <td>General Election</td>\n",
              "      <td>Vice Presidential Debate in New York City</td>\n",
              "      <td>https://www.presidency.ucsb.edu/documents/vice...</td>\n",
              "      <td>debate_1.txt</td>\n",
              "    </tr>\n",
              "    <tr>\n",
              "      <th>1</th>\n",
              "      <td>2024</td>\n",
              "      <td>2024-09-10</td>\n",
              "      <td>General Election</td>\n",
              "      <td>Presidential Debate in Philadelphia, Pennsylva...</td>\n",
              "      <td>https://www.presidency.ucsb.edu/documents/pres...</td>\n",
              "      <td>debate_2.txt</td>\n",
              "    </tr>\n",
              "    <tr>\n",
              "      <th>2</th>\n",
              "      <td>2024</td>\n",
              "      <td>2024-06-27</td>\n",
              "      <td>General Election</td>\n",
              "      <td>Presidential Debate in Atlanta, Georgia (Biden...</td>\n",
              "      <td>https://www.presidency.ucsb.edu/documents/pres...</td>\n",
              "      <td>debate_3.txt</td>\n",
              "    </tr>\n",
              "    <tr>\n",
              "      <th>3</th>\n",
              "      <td>2024</td>\n",
              "      <td>2024-01-10</td>\n",
              "      <td>Primary Election: Republican Party</td>\n",
              "      <td>Republican Candidates Debate in Des Moines, Iowa</td>\n",
              "      <td>https://www.presidency.ucsb.edu/documents/repu...</td>\n",
              "      <td>debate_4.txt</td>\n",
              "    </tr>\n",
              "    <tr>\n",
              "      <th>4</th>\n",
              "      <td>2024</td>\n",
              "      <td>2023-12-06</td>\n",
              "      <td>Primary Election: Republican Party</td>\n",
              "      <td>Republican Candidates Debate in Tuscaloosa, Al...</td>\n",
              "      <td>https://www.presidency.ucsb.edu/documents/repu...</td>\n",
              "      <td>debate_5.txt</td>\n",
              "    </tr>\n",
              "  </tbody>\n",
              "</table>\n",
              "</div>\n",
              "    <div class=\"colab-df-buttons\">\n",
              "\n",
              "  <div class=\"colab-df-container\">\n",
              "    <button class=\"colab-df-convert\" onclick=\"convertToInteractive('df-1be0c59e-bf3f-4ad1-9ba2-35fca40badc3')\"\n",
              "            title=\"Convert this dataframe to an interactive table.\"\n",
              "            style=\"display:none;\">\n",
              "\n",
              "  <svg xmlns=\"http://www.w3.org/2000/svg\" height=\"24px\" viewBox=\"0 -960 960 960\">\n",
              "    <path d=\"M120-120v-720h720v720H120Zm60-500h600v-160H180v160Zm220 220h160v-160H400v160Zm0 220h160v-160H400v160ZM180-400h160v-160H180v160Zm440 0h160v-160H620v160ZM180-180h160v-160H180v160Zm440 0h160v-160H620v160Z\"/>\n",
              "  </svg>\n",
              "    </button>\n",
              "\n",
              "  <style>\n",
              "    .colab-df-container {\n",
              "      display:flex;\n",
              "      gap: 12px;\n",
              "    }\n",
              "\n",
              "    .colab-df-convert {\n",
              "      background-color: #E8F0FE;\n",
              "      border: none;\n",
              "      border-radius: 50%;\n",
              "      cursor: pointer;\n",
              "      display: none;\n",
              "      fill: #1967D2;\n",
              "      height: 32px;\n",
              "      padding: 0 0 0 0;\n",
              "      width: 32px;\n",
              "    }\n",
              "\n",
              "    .colab-df-convert:hover {\n",
              "      background-color: #E2EBFA;\n",
              "      box-shadow: 0px 1px 2px rgba(60, 64, 67, 0.3), 0px 1px 3px 1px rgba(60, 64, 67, 0.15);\n",
              "      fill: #174EA6;\n",
              "    }\n",
              "\n",
              "    .colab-df-buttons div {\n",
              "      margin-bottom: 4px;\n",
              "    }\n",
              "\n",
              "    [theme=dark] .colab-df-convert {\n",
              "      background-color: #3B4455;\n",
              "      fill: #D2E3FC;\n",
              "    }\n",
              "\n",
              "    [theme=dark] .colab-df-convert:hover {\n",
              "      background-color: #434B5C;\n",
              "      box-shadow: 0px 1px 3px 1px rgba(0, 0, 0, 0.15);\n",
              "      filter: drop-shadow(0px 1px 2px rgba(0, 0, 0, 0.3));\n",
              "      fill: #FFFFFF;\n",
              "    }\n",
              "  </style>\n",
              "\n",
              "    <script>\n",
              "      const buttonEl =\n",
              "        document.querySelector('#df-1be0c59e-bf3f-4ad1-9ba2-35fca40badc3 button.colab-df-convert');\n",
              "      buttonEl.style.display =\n",
              "        google.colab.kernel.accessAllowed ? 'block' : 'none';\n",
              "\n",
              "      async function convertToInteractive(key) {\n",
              "        const element = document.querySelector('#df-1be0c59e-bf3f-4ad1-9ba2-35fca40badc3');\n",
              "        const dataTable =\n",
              "          await google.colab.kernel.invokeFunction('convertToInteractive',\n",
              "                                                    [key], {});\n",
              "        if (!dataTable) return;\n",
              "\n",
              "        const docLinkHtml = 'Like what you see? Visit the ' +\n",
              "          '<a target=\"_blank\" href=https://colab.research.google.com/notebooks/data_table.ipynb>data table notebook</a>'\n",
              "          + ' to learn more about interactive tables.';\n",
              "        element.innerHTML = '';\n",
              "        dataTable['output_type'] = 'display_data';\n",
              "        await google.colab.output.renderOutput(dataTable, element);\n",
              "        const docLink = document.createElement('div');\n",
              "        docLink.innerHTML = docLinkHtml;\n",
              "        element.appendChild(docLink);\n",
              "      }\n",
              "    </script>\n",
              "  </div>\n",
              "\n",
              "\n",
              "<div id=\"df-bf23f00a-0b95-4d84-b46e-0d52eca97636\">\n",
              "  <button class=\"colab-df-quickchart\" onclick=\"quickchart('df-bf23f00a-0b95-4d84-b46e-0d52eca97636')\"\n",
              "            title=\"Suggest charts\"\n",
              "            style=\"display:none;\">\n",
              "\n",
              "<svg xmlns=\"http://www.w3.org/2000/svg\" height=\"24px\"viewBox=\"0 0 24 24\"\n",
              "     width=\"24px\">\n",
              "    <g>\n",
              "        <path d=\"M19 3H5c-1.1 0-2 .9-2 2v14c0 1.1.9 2 2 2h14c1.1 0 2-.9 2-2V5c0-1.1-.9-2-2-2zM9 17H7v-7h2v7zm4 0h-2V7h2v10zm4 0h-2v-4h2v4z\"/>\n",
              "    </g>\n",
              "</svg>\n",
              "  </button>\n",
              "\n",
              "<style>\n",
              "  .colab-df-quickchart {\n",
              "      --bg-color: #E8F0FE;\n",
              "      --fill-color: #1967D2;\n",
              "      --hover-bg-color: #E2EBFA;\n",
              "      --hover-fill-color: #174EA6;\n",
              "      --disabled-fill-color: #AAA;\n",
              "      --disabled-bg-color: #DDD;\n",
              "  }\n",
              "\n",
              "  [theme=dark] .colab-df-quickchart {\n",
              "      --bg-color: #3B4455;\n",
              "      --fill-color: #D2E3FC;\n",
              "      --hover-bg-color: #434B5C;\n",
              "      --hover-fill-color: #FFFFFF;\n",
              "      --disabled-bg-color: #3B4455;\n",
              "      --disabled-fill-color: #666;\n",
              "  }\n",
              "\n",
              "  .colab-df-quickchart {\n",
              "    background-color: var(--bg-color);\n",
              "    border: none;\n",
              "    border-radius: 50%;\n",
              "    cursor: pointer;\n",
              "    display: none;\n",
              "    fill: var(--fill-color);\n",
              "    height: 32px;\n",
              "    padding: 0;\n",
              "    width: 32px;\n",
              "  }\n",
              "\n",
              "  .colab-df-quickchart:hover {\n",
              "    background-color: var(--hover-bg-color);\n",
              "    box-shadow: 0 1px 2px rgba(60, 64, 67, 0.3), 0 1px 3px 1px rgba(60, 64, 67, 0.15);\n",
              "    fill: var(--button-hover-fill-color);\n",
              "  }\n",
              "\n",
              "  .colab-df-quickchart-complete:disabled,\n",
              "  .colab-df-quickchart-complete:disabled:hover {\n",
              "    background-color: var(--disabled-bg-color);\n",
              "    fill: var(--disabled-fill-color);\n",
              "    box-shadow: none;\n",
              "  }\n",
              "\n",
              "  .colab-df-spinner {\n",
              "    border: 2px solid var(--fill-color);\n",
              "    border-color: transparent;\n",
              "    border-bottom-color: var(--fill-color);\n",
              "    animation:\n",
              "      spin 1s steps(1) infinite;\n",
              "  }\n",
              "\n",
              "  @keyframes spin {\n",
              "    0% {\n",
              "      border-color: transparent;\n",
              "      border-bottom-color: var(--fill-color);\n",
              "      border-left-color: var(--fill-color);\n",
              "    }\n",
              "    20% {\n",
              "      border-color: transparent;\n",
              "      border-left-color: var(--fill-color);\n",
              "      border-top-color: var(--fill-color);\n",
              "    }\n",
              "    30% {\n",
              "      border-color: transparent;\n",
              "      border-left-color: var(--fill-color);\n",
              "      border-top-color: var(--fill-color);\n",
              "      border-right-color: var(--fill-color);\n",
              "    }\n",
              "    40% {\n",
              "      border-color: transparent;\n",
              "      border-right-color: var(--fill-color);\n",
              "      border-top-color: var(--fill-color);\n",
              "    }\n",
              "    60% {\n",
              "      border-color: transparent;\n",
              "      border-right-color: var(--fill-color);\n",
              "    }\n",
              "    80% {\n",
              "      border-color: transparent;\n",
              "      border-right-color: var(--fill-color);\n",
              "      border-bottom-color: var(--fill-color);\n",
              "    }\n",
              "    90% {\n",
              "      border-color: transparent;\n",
              "      border-bottom-color: var(--fill-color);\n",
              "    }\n",
              "  }\n",
              "</style>\n",
              "\n",
              "  <script>\n",
              "    async function quickchart(key) {\n",
              "      const quickchartButtonEl =\n",
              "        document.querySelector('#' + key + ' button');\n",
              "      quickchartButtonEl.disabled = true;  // To prevent multiple clicks.\n",
              "      quickchartButtonEl.classList.add('colab-df-spinner');\n",
              "      try {\n",
              "        const charts = await google.colab.kernel.invokeFunction(\n",
              "            'suggestCharts', [key], {});\n",
              "      } catch (error) {\n",
              "        console.error('Error during call to suggestCharts:', error);\n",
              "      }\n",
              "      quickchartButtonEl.classList.remove('colab-df-spinner');\n",
              "      quickchartButtonEl.classList.add('colab-df-quickchart-complete');\n",
              "    }\n",
              "    (() => {\n",
              "      let quickchartButtonEl =\n",
              "        document.querySelector('#df-bf23f00a-0b95-4d84-b46e-0d52eca97636 button');\n",
              "      quickchartButtonEl.style.display =\n",
              "        google.colab.kernel.accessAllowed ? 'block' : 'none';\n",
              "    })();\n",
              "  </script>\n",
              "</div>\n",
              "\n",
              "    </div>\n",
              "  </div>\n"
            ],
            "text/plain": [
              "0 Election Year       Date                                Type  \\\n",
              "0          2024 2024-10-01                    General Election   \n",
              "1          2024 2024-09-10                    General Election   \n",
              "2          2024 2024-06-27                    General Election   \n",
              "3          2024 2024-01-10  Primary Election: Republican Party   \n",
              "4          2024 2023-12-06  Primary Election: Republican Party   \n",
              "\n",
              "0                                        Debate Name  \\\n",
              "0          Vice Presidential Debate in New York City   \n",
              "1  Presidential Debate in Philadelphia, Pennsylva...   \n",
              "2  Presidential Debate in Atlanta, Georgia (Biden...   \n",
              "3   Republican Candidates Debate in Des Moines, Iowa   \n",
              "4  Republican Candidates Debate in Tuscaloosa, Al...   \n",
              "\n",
              "0                                                URL     File name  \n",
              "0  https://www.presidency.ucsb.edu/documents/vice...  debate_1.txt  \n",
              "1  https://www.presidency.ucsb.edu/documents/pres...  debate_2.txt  \n",
              "2  https://www.presidency.ucsb.edu/documents/pres...  debate_3.txt  \n",
              "3  https://www.presidency.ucsb.edu/documents/repu...  debate_4.txt  \n",
              "4  https://www.presidency.ucsb.edu/documents/repu...  debate_5.txt  "
            ]
          },
          "execution_count": 25,
          "metadata": {},
          "output_type": "execute_result"
        }
      ],
      "source": [
        "info_df.head()"
      ]
    },
    {
      "cell_type": "code",
      "execution_count": null,
      "metadata": {
        "id": "d40JkwqmkB6j"
      },
      "outputs": [],
      "source": [
        "def get_text(df):\n",
        "    df = df.dropna(axis = 0)\n",
        "    df = df.reset_index()\n",
        "    df = df.drop(columns = ['index'])\n",
        "\n",
        "    txt = []\n",
        "    for i in tqdm(range(len(df))):\n",
        "        #get file\n",
        "        doc = df['File name'][i]\n",
        "        test_doc = open('txt_files/'+doc,'r')\n",
        "\n",
        "        #extract text\n",
        "        text = test_doc.read()\n",
        "\n",
        "        txt.append(text)\n",
        "    df['Text'] = txt\n",
        "\n",
        "    return df"
      ]
    },
    {
      "cell_type": "code",
      "execution_count": null,
      "metadata": {
        "colab": {
          "base_uri": "https://localhost:8080/"
        },
        "id": "A9oF4Jgjlh1i",
        "outputId": "bc6c8068-6faf-49ad-9d34-d75a4a34ab42"
      },
      "outputs": [
        {
          "name": "stderr",
          "output_type": "stream",
          "text": [
            "100%|██████████| 175/175 [00:00<00:00, 3313.20it/s]\n"
          ]
        }
      ],
      "source": [
        "info_df = get_text(info_df)"
      ]
    },
    {
      "cell_type": "code",
      "execution_count": null,
      "metadata": {
        "id": "vqKxlCrUljJC"
      },
      "outputs": [],
      "source": [
        "def get_scores_2(df):\n",
        "\n",
        "    #getting the sentiment analysis from Vader\n",
        "    print(\"geting sentiment analysis ... \")\n",
        "    df['Sentiment'] = df['Text'].progress_apply(lambda x: SentimentIntensityAnalyzer().polarity_scores(x))\n",
        "\n",
        "    print(\" \")\n",
        "    #getting reading level from textstat\n",
        "    print(\"Getting grade level ... \")\n",
        "    df['Grade Level'] = df['Text'].progress_apply(lambda x: textstat.flesch_kincaid_grade(x))\n",
        "\n",
        "    print(\" \")\n",
        "    #getting readability score also from text stat\n",
        "    print(\"getting readability score ... \")\n",
        "    df['Readability Score'] = df['Text'].progress_apply(lambda x: textstat.flesch_reading_ease(x))\n",
        "\n",
        "    return df"
      ]
    },
    {
      "cell_type": "code",
      "execution_count": null,
      "metadata": {
        "id": "-B3x5nLnllco"
      },
      "outputs": [],
      "source": [
        "#info_df = get_scores_2(info_df)"
      ]
    },
    {
      "cell_type": "code",
      "execution_count": null,
      "metadata": {
        "id": "BCcdA_-Elm8s"
      },
      "outputs": [],
      "source": [
        "def get_text_blob(df):\n",
        "\n",
        "    polarity = []\n",
        "    subjectivity = []\n",
        "\n",
        "    print('getting polarity and subjectivity ...')\n",
        "    for i in tqdm(range(len(df))):\n",
        "        text = df['Text'][i]\n",
        "\n",
        "        blog = TextBlob(text)\n",
        "\n",
        "        pol = blog.sentiment.polarity\n",
        "        subj = blog.sentiment.subjectivity\n",
        "\n",
        "        polarity.append(pol)\n",
        "        subjectivity.append(subj)\n",
        "\n",
        "    df['Text Polarity'] = polarity\n",
        "    df['Text Subjectivity'] = subjectivity\n",
        "\n",
        "    return df"
      ]
    },
    {
      "cell_type": "code",
      "execution_count": null,
      "metadata": {
        "id": "JnJPwJopoc6G"
      },
      "outputs": [],
      "source": [
        "#info_df = get_text_blob(info_df)"
      ]
    },
    {
      "cell_type": "code",
      "execution_count": null,
      "metadata": {
        "id": "NdISZQx-x8yF"
      },
      "outputs": [],
      "source": [
        "def extract_sentiment_scores(df):\n",
        "    df['Negative Sentiment'] = df['Sentiment'].apply(lambda x: x['neg'])\n",
        "    df['Neutral Sentiment'] = df['Sentiment'].apply(lambda x: x['neu'])\n",
        "    df['Positive Sentiment'] = df['Sentiment'].apply(lambda x: x['pos'])\n",
        "\n",
        "    return df"
      ]
    },
    {
      "cell_type": "code",
      "execution_count": null,
      "metadata": {
        "id": "HojOF-NJyAkJ"
      },
      "outputs": [],
      "source": [
        "info_df = extract_sentiment_scores(info_df)"
      ]
    },
    {
      "cell_type": "code",
      "execution_count": 4,
      "metadata": {
        "id": "dzs_6fTW4ebE"
      },
      "outputs": [],
      "source": [
        "#Save info df so you don't have to run each step again\n",
        "# info_df.to_csv('csv_files/sentiment.csv',\n",
        "#                index = True)"
      ]
    },
    {
      "cell_type": "code",
      "source": [],
      "metadata": {
        "id": "DlPwQSO9JRbI"
      },
      "execution_count": null,
      "outputs": []
    },
    {
      "cell_type": "code",
      "execution_count": null,
      "metadata": {
        "id": "EoHvu__F0bn5"
      },
      "outputs": [],
      "source": [
        "words = {'i', 'me', 'my', 'myself', 'we', 'our', 'ours',\n",
        "'ourselves', 'you', \"you're\", \"you've\", \"you'll\", \"you'd\", 'your', 'yours', 'yourself',\n",
        "'yourselves', 'he', 'him', 'his', 'himself', 'she', \"she's\", 'her', 'hers', 'herself',\n",
        "'it', \"it's\", 'its', 'itself', 'they', 'them', 'their', 'theirs', 'themselves',\n",
        " 'what', 'which', 'who', 'whom', 'this', 'that', \"that'll\", 'these', 'those', 'am', 'is', 'are',\n",
        " 'was', 'were', 'be', 'been', 'being', 'have', 'has', 'had', 'having', 'do', 'does', 'did', 'doing',\n",
        " 'a', 'an', 'the', 'and', 'but', 'if', 'or', 'because', 'as', 'until', 'while', 'of', 'at', 'by', 'for',\n",
        "'with', 'about', 'against', 'between', 'into', 'through', 'during', 'before', 'after', 'above', 'below', 'to',\n",
        "'from', 'up', 'down', 'in', 'out', 'on', 'off', 'over', 'under', 'again', 'further', 'then', 'once',\n",
        "'here', 'there', 'when', 'where', 'why', 'how', 'all', 'any', 'both', 'each', 'few', 'more', 'most',\n",
        "'other', 'some', 'such', 'no', 'nor', 'not', 'only', 'own', 'same', 'so', 'than', 'too', 'very',\n",
        "'s', 't', 'can', 'will', 'just', 'don', \"don't\", 'should', \"should've\", 'now', 'd', 'll', 'm', 'o', 're', 've', 'y',\n",
        " 'ain', 'aren', \"aren't\", 'couldn', \"couldn't\", 'didn', \"didn't\", 'doesn', \"doesn't\",\n",
        "'hadn', \"hadn't\", 'hasn', \"hasn't\", 'haven', \"haven't\", 'isn', \"isn't\", 'ma', 'mightn',\n",
        " \"mightn't\", 'mustn', \"mustn't\", 'needn', \"needn't\", 'shan', \"shan't\", 'shouldn', \"shouldn't\",\n",
        "'wasn', \"wasn't\", 'weren', \"weren't\", 'won', \"won't\", 'wouldn', \"wouldn't\"}"
      ]
    },
    {
      "cell_type": "markdown",
      "metadata": {
        "id": "1MMgsnUz4dP2"
      },
      "source": []
    },
    {
      "cell_type": "code",
      "execution_count": null,
      "metadata": {
        "id": "A-uU64dn0eBi"
      },
      "outputs": [],
      "source": [
        "l2 = {'i','me','my','myself','we','our', 'ours', 'ourselves', 'you', 'your', 'yours', 'yourself', 'yourselves',\n",
        "'he', 'him', 'his', 'himself', 'she', 'her', 'hers', 'herself', 'it', 'its', 'itself', 'they', 'them',\n",
        "'their', 'theirs', 'themselves', 'what', 'which', 'who', 'whom', 'this', 'that', 'these', 'those',\n",
        "'am', 'is', 'are', 'was', 'were','be','been','being','have','has', 'had', 'having', 'do', 'does', 'did',\n",
        "'doing', 'a', 'an', 'the', 'and', 'but', 'if', 'or', 'because', 'as', 'until', 'while', 'of', 'at',\n",
        "'by', 'for', 'with', 'about', 'against', 'between', 'into', 'through', 'during', 'before','after',\n",
        "'above', 'below', 'to', 'from', 'up','down','in','out','on','off','over','under','again','further','then','once',\n",
        "'here','there','when','where','why','how','all','any','both','each','few','more','most','other','some',\n",
        "'such','no','nor','not','only','own','same','so','than','too','very','s','t','can','will','just','don','should',\n",
        "'now',}"
      ]
    },
    {
      "cell_type": "code",
      "execution_count": null,
      "metadata": {
        "id": "2g88LtSb0gN5"
      },
      "outputs": [],
      "source": [
        "irrelevant_words = {'trump', 'harris', 'biden', \"president\", 'govenor', 'haley', 'ramaswamy', 'yang', 'mr', 'vice', 'desantis',\n",
        "'donald', 'kamala', 'joe', 'would', 'going', 'senator', 'welker', 'baier',\n",
        "'pence', 'bloomberg', 'todd', 'thank', 'applause', 'clinton', 'hilary',\n",
        "'kaine', 'sanders', 'think', 'cuomo', 'romney', 'obama', 'graham', 'blitzer',\n",
        "'ryan', 'hemmer', 'moderator', 'king', 'mccain', 'john', 'wallace', 'cooper',\n",
        "'bush', 'russert', 'smiley', 'stephanopoulos', 'think', 'want', 'koppel', 'bradley',\n",
        "'thank', 'kemp', 'roberts', 'gore', 'reagan', 'ford',\n",
        "                   \"waltz\", 'vance', 'muir', 'governor', 'christie', 'maccallum',\n",
        "'albert', 'mayor', 'get', 'warren', 'klobuchar', 'buttigieg',\n",
        "'donnell', 'steyer', 'way', 'let', 'said', 'one', 'done', 'way',\n",
        "'look', 'said', 'get', 'lot', 'things', 'brennan', 'muir', 'let',\n",
        "'davis', 'kelly', 'santorum', 'question', 'gibson', 'campaign', 'sen',\n",
        "'edwards', 'richardson', 'said', 'take', 'new', 'matthews', 'get',\n",
        "'bartiromo', 'ms', 'giuliani', 'one', 'go', 'need', 'gov', 'let',\n",
        "'congressman', 'like', 'know',\n",
        "                   'scott', 'holt', 'actually', 'us', 'also', \"susan\",\n",
        "'vargas', 'nikki', 'thing', 'got', 'perino', 'varney',\n",
        "'say', 'every', 'burgum', 'woodruff', 'well', 'sir',\n",
        "'phillip', 'pfannenstiel', 'mitchell', 'lacey', 'sure',\n",
        "'booker', 'lemon', 'bullock', 'guthrie', 'bennet',\n",
        "'maddow', 'williamson', 'rourke', 'booker', 'castro',\n",
        "'delaney', 'mosul', 'raddatz', 'well', 'hillary',\n",
        "'quijano', 'holt', 'really', 'louis', 'also', 'rubio',\n",
        "'marco', 'cruz', 'kasich', 'ramos', 'salinas', 'inaudible',\n",
        "'secretary', 'ok', 'dickerson', 'carson', 'raddatz',\n",
        "'much', 'talk', 'paul', 'huckabee', 'mike', 'fiorina',\n",
        "'laughter','malley', 'andrea', 'smith', 'raddatz', 'pataki',\n",
        "'jindal', 'pataki', 'quintanilla', 'chafee', 'anderson', 'webb',\n",
        "'jake', 'hewitt', 'schieffer', 'crowley', '000', '2', 'lehrer',\n",
        "'gingrich', 'newt', 'speaker', 'perry', 'sawyer', 'huntsman',\n",
        "'bachmann', 'garrett', 'pelley', 'cain', '9', 'williams',\n",
        "'pawlenty', 'brokaw', 'ifill', 'palin', 'lehrer', 'cheers',\n",
        "'ronald', 'thompson', 'crosstalk', 'washburn', 'dodd',\n",
        "                   'thompson', 'kucinich', 'williams', 'brownback', 'tancredo',\n",
        "'rep', 'george', 'olbermann', 'wolf', 'goler', 'kerry', 'ifill',\n",
        "'cheney', 'gwen', 'lehrer', 'brokaw', 'sharpton', 'tom', 'say',\n",
        "'jennings', 'lieberman', 'distaso', 'dean', 'woodruff', 'shaw',\n",
        "'keyes', 'alan', 'griffith', 'brown', 'bauer', 'ryerson',\n",
        "'stanton', 'hatch', 'forbes', 'novak', 'q', 'cokie', 'dole',\n",
        "'lehrer', '4', 'perot', 'simpson', 'quayle', 'bruno', 'stockdale',\n",
        "'george', 'dukakis', 'put', 'bentsen', 'mondale', 'ferraro', 'vanocur',\n",
        "'walters', 'smith', 'carter', 'jimmy', 'moyers', 'could', '2', 'uh',\n",
        "'hoge', 'two', 'kennedy', 'nixon', 'howe', 'shadel', 'three', 'mcgee',\n",
        "   'walz', 'margaret', 'tim','donnel',\n",
        "\n",
        "                   }\n"
      ]
    },
    {
      "cell_type": "code",
      "execution_count": null,
      "metadata": {
        "id": "xxViiis05DuS"
      },
      "outputs": [],
      "source": [
        "other_words = irrelevant_words.union(l2).union(words)"
      ]
    },
    {
      "cell_type": "code",
      "execution_count": null,
      "metadata": {
        "id": "5RjUQGL90iaj"
      },
      "outputs": [],
      "source": [
        "#removes a list of words (ie. stopwords) from a tokenized list.\n",
        "def removeWords(listOfTokens, listOfWords):\n",
        "    return [token for token in listOfTokens if token not in listOfWords]\n",
        "\n",
        "# applies stemming to a list of tokenized words\n",
        "def applyStemming(listOfTokens, stemmer):\n",
        "    return [stemmer.stem(token) for token in listOfTokens]\n",
        "\n",
        "# removes any words composed of less than 2 or more than 21 letters\n",
        "def twoLetters(listOfTokens):\n",
        "    twoLetterWord = []\n",
        "    for token in listOfTokens:\n",
        "        if len(token) <= 2 or len(token) >= 21:\n",
        "            twoLetterWord.append(token)\n",
        "    return twoLetterWord"
      ]
    },
    {
      "cell_type": "code",
      "execution_count": null,
      "metadata": {
        "colab": {
          "base_uri": "https://localhost:8080/"
        },
        "id": "nhp7SQ2q5a2E",
        "outputId": "5dba4b1e-4529-4d26-f52b-900ae88bad09"
      },
      "outputs": [
        {
          "name": "stderr",
          "output_type": "stream",
          "text": [
            "[nltk_data] Downloading package punkt to /root/nltk_data...\n",
            "[nltk_data]   Package punkt is already up-to-date!\n"
          ]
        },
        {
          "data": {
            "text/plain": [
              "True"
            ]
          },
          "execution_count": 51,
          "metadata": {},
          "output_type": "execute_result"
        }
      ],
      "source": [
        "nltk.download('punkt')"
      ]
    },
    {
      "cell_type": "code",
      "execution_count": null,
      "metadata": {
        "id": "nwmhYW7m4wVI"
      },
      "outputs": [],
      "source": [
        "#cleaning text\n",
        "def processCorpus(df):\n",
        "\n",
        "    clean_text = []\n",
        "\n",
        "    for i in tqdm(range(len(df))):\n",
        "\n",
        "        text = df['Text'][i]\n",
        "\n",
        "        text = text.replace(u'\\ufffd', '8')   # Replaces the ASCII '�' symbol with '8'\n",
        "        text = text.replace(',', '')          # Removes commas\n",
        "        text = text.rstrip('\\n')              # Removes line breaks\n",
        "        text = text.casefold()                # Makes all letters lowercase\n",
        "\n",
        "        text = re.sub('\\W_',' ', text)        # removes specials characters and leaves only words\n",
        "        text = re.sub(\"\\S*\\d\\S*\",\" \", text)   # removes numbers and words concatenated with numbers IE h4ck3r. Removes road names such as BR-381.\n",
        "        text = re.sub(\"\\S*@\\S*\\s?\",\" \", text) # removes emails and mentions (words with @)\n",
        "        text = re.sub(r'http\\S+', '', text)   # removes URLs with http\n",
        "        text = re.sub(r'www\\S+', '', text)    # removes URLs with www\n",
        "\n",
        "        listOfTokens = word_tokenize(text)\n",
        "        twoLetterWord = twoLetters(listOfTokens)\n",
        "\n",
        "        listOfTokens = removeWords(listOfTokens, stop_words)\n",
        "        listOfTokens = removeWords(listOfTokens, twoLetterWord)\n",
        "\n",
        "        listOfTokens = removeWords(listOfTokens, other_words)\n",
        "\n",
        "        listOfTokens = applyStemming(listOfTokens, param_stemmer)\n",
        "        listOfTokens = removeWords(listOfTokens, other_words)\n",
        "\n",
        "        text   = \" \".join(listOfTokens)\n",
        "        text = unidecode(text)\n",
        "\n",
        "        clean_text.append(text)\n",
        "    df['Clean Text'] = clean_text\n",
        "    return df"
      ]
    },
    {
      "cell_type": "code",
      "execution_count": null,
      "metadata": {
        "colab": {
          "base_uri": "https://localhost:8080/"
        },
        "id": "YW8AVt1H4wpx",
        "outputId": "9ec8d09c-d083-44db-b088-053206a18776"
      },
      "outputs": [
        {
          "name": "stderr",
          "output_type": "stream",
          "text": [
            "100%|██████████| 175/175 [02:37<00:00,  1.11it/s]\n"
          ]
        }
      ],
      "source": [
        "sentiment_2 = processCorpus(sentiment_df)"
      ]
    },
    {
      "cell_type": "code",
      "execution_count": null,
      "metadata": {
        "id": "bEOrs3Jl4w84"
      },
      "outputs": [],
      "source": [
        "def get_stat_weight(df):\n",
        "    weight_array = []\n",
        "    for i in tqdm(range(len(df))):\n",
        "        # Get the 'Clean Text' for the current row\n",
        "        corpus = df['Clean Text'][i]\n",
        "\n",
        "        if isinstance(corpus, str):\n",
        "            corpus = [corpus]\n",
        "        # Create a TfidfVectorizer and fit_transform on the corpus\n",
        "        vectorizer = TfidfVectorizer()\n",
        "        X = vectorizer.fit_transform(corpus)\n",
        "\n",
        "        tf_idf = pd.DataFrame(data=X.toarray(), columns=vectorizer.get_feature_names_out())\n",
        "        # Get the top 20 words by TF-IDF score for the current row\n",
        "        weight_array.append(tf_idf.T.nlargest(20, 0))\n",
        "\n",
        "    df['Weight'] = weight_array\n",
        "    # Return the DataFrame with the 'Weight' column added\n",
        "    return df"
      ]
    },
    {
      "cell_type": "code",
      "execution_count": null,
      "metadata": {
        "colab": {
          "base_uri": "https://localhost:8080/"
        },
        "id": "uNEL7BW14xPM",
        "outputId": "b754ff18-205a-4729-bd38-774f8b2560d1"
      },
      "outputs": [
        {
          "name": "stderr",
          "output_type": "stream",
          "text": [
            "100%|██████████| 175/175 [00:01<00:00, 112.27it/s]\n"
          ]
        }
      ],
      "source": [
        "sentiment3 = get_stat_weight(sentiment_2)"
      ]
    },
    {
      "cell_type": "code",
      "execution_count": null,
      "metadata": {
        "id": "jXjodxQ64xi5"
      },
      "outputs": [],
      "source": [
        "sentiment3 = sentiment3.drop(columns = ['Unnamed: 0'])"
      ]
    },
    {
      "cell_type": "code",
      "execution_count": null,
      "metadata": {
        "id": "Nzj4MWwe4x12"
      },
      "outputs": [],
      "source": []
    },
    {
      "cell_type": "code",
      "execution_count": null,
      "metadata": {
        "id": "NEZqkh1m4yHj"
      },
      "outputs": [],
      "source": [
        "def get_common_words(df):\n",
        "    exclude = stop_words.union(other_words)\n",
        "    common = []\n",
        "\n",
        "    for i in tqdm(range(len(df))):\n",
        "        d_text = df['Text'][i]\n",
        "        text = d_text.lower()\n",
        "        words = re.findall(r'\\w+', text)\n",
        "        filtered_words =[word for word in words if word not in exclude]\n",
        "\n",
        "        word_counts = Counter(filtered_words)\n",
        "        top_20 = word_counts.most_common(25)\n",
        "\n",
        "        common.append(top_20)\n",
        "\n",
        "    df['Common Words'] = common\n",
        "\n",
        "    return df"
      ]
    },
    {
      "cell_type": "code",
      "execution_count": null,
      "metadata": {
        "colab": {
          "base_uri": "https://localhost:8080/"
        },
        "id": "EsFKj5Fr_JB7",
        "outputId": "24f0d3a7-973b-4149-d81d-9476289beb18"
      },
      "outputs": [
        {
          "name": "stderr",
          "output_type": "stream",
          "text": [
            "100%|██████████| 175/175 [00:02<00:00, 77.98it/s] \n"
          ]
        }
      ],
      "source": [
        "sentiment3 = get_common_words(sentiment3)"
      ]
    },
    {
      "cell_type": "code",
      "execution_count": null,
      "metadata": {
        "colab": {
          "base_uri": "https://localhost:8080/"
        },
        "id": "Z6zj3GFF_Wd-",
        "outputId": "0e255341-bdf0-45cf-9e57-7b939cd9bfe4"
      },
      "outputs": [
        {
          "data": {
            "text/plain": [
              "[('people', 83),\n",
              " ('make', 67),\n",
              " ('american', 59),\n",
              " ('country', 51),\n",
              " ('first', 47),\n",
              " ('time', 42),\n",
              " ('issue', 38),\n",
              " ('right', 35),\n",
              " ('care', 34),\n",
              " ('back', 33),\n",
              " ('housing', 32),\n",
              " ('minnesota', 30),\n",
              " ('americans', 30),\n",
              " ('years', 30),\n",
              " ('home', 29),\n",
              " ('able', 29),\n",
              " ('family', 28),\n",
              " ('debate', 26),\n",
              " ('seen', 26),\n",
              " ('federal', 26),\n",
              " ('made', 24),\n",
              " ('states', 24),\n",
              " ('folks', 24),\n",
              " ('border', 24),\n",
              " ('pay', 23)]"
            ]
          },
          "execution_count": 84,
          "metadata": {},
          "output_type": "execute_result"
        }
      ],
      "source": [
        "sentiment3['Common Words'][0]"
      ]
    },
    {
      "cell_type": "code",
      "execution_count": null,
      "metadata": {
        "id": "45Rn2AYk_Xcs"
      },
      "outputs": [],
      "source": [
        "sentiment4 = sentiment3.drop(columns = ['Text',\n",
        "                                        'Sentiment',\n",
        "                                        'Clean Text',\n",
        "                                        'Cluster'])"
      ]
    },
    {
      "cell_type": "code",
      "execution_count": null,
      "metadata": {
        "id": "EaGHcfPSAW_h"
      },
      "outputs": [],
      "source": [
        "sentiment4.to_csv('csv_files/output.csv')"
      ]
    },
    {
      "cell_type": "code",
      "execution_count": null,
      "metadata": {
        "id": "eqKB9N17Bjkg"
      },
      "outputs": [],
      "source": [
        "sentiment5 = pd.read_excel('csv_files/Presidential Debate Text Analysis.xlsx',\n",
        "                           sheet_name = 'output')"
      ]
    },
    {
      "cell_type": "code",
      "execution_count": null,
      "metadata": {
        "id": "Eg4Sk1bfVuCi"
      },
      "outputs": [],
      "source": [
        "general = sentiment5[sentiment5['Type'] == 'General Election']"
      ]
    },
    {
      "cell_type": "code",
      "execution_count": null,
      "metadata": {
        "id": "8ynCnzxQWMp9"
      },
      "outputs": [],
      "source": [
        "import ast\n",
        "all_words = {}\n",
        "\n",
        "for index, row in general.iterrows():\n",
        "    date = row['Date']\n",
        "    words_list = ast.literal_eval(row['Common Words'])\n",
        "    words_dict = dict(words_list)  # Now convert the list of tuples to a dictionary\n",
        "    all_words[date] = words_dict\n",
        "\n",
        "# Convert this into a DataFrame, with dates as the index and words as columns\n",
        "word_df = pd.DataFrame(all_words).T.fillna(0)\n",
        "\n",
        "# Ensure the DataFrame is sorted by date\n",
        "word_df = word_df.sort_index()\n"
      ]
    },
    {
      "cell_type": "code",
      "execution_count": null,
      "metadata": {
        "colab": {
          "base_uri": "https://localhost:8080/",
          "height": 338
        },
        "id": "ucEDj20ldSYb",
        "outputId": "a1bcfe91-bd6e-4e5c-f0e8-918aad879f02"
      },
      "outputs": [
        {
          "data": {
            "application/vnd.google.colaboratory.intrinsic+json": {
              "type": "dataframe",
              "variable_name": "word_df"
            },
            "text/html": [
              "\n",
              "  <div id=\"df-cfe41f71-5015-440e-af11-2647fa0289f5\" class=\"colab-df-container\">\n",
              "    <div>\n",
              "<style scoped>\n",
              "    .dataframe tbody tr th:only-of-type {\n",
              "        vertical-align: middle;\n",
              "    }\n",
              "\n",
              "    .dataframe tbody tr th {\n",
              "        vertical-align: top;\n",
              "    }\n",
              "\n",
              "    .dataframe thead th {\n",
              "        text-align: right;\n",
              "    }\n",
              "</style>\n",
              "<table border=\"1\" class=\"dataframe\">\n",
              "  <thead>\n",
              "    <tr style=\"text-align: right;\">\n",
              "      <th></th>\n",
              "      <th>people</th>\n",
              "      <th>make</th>\n",
              "      <th>american</th>\n",
              "      <th>country</th>\n",
              "      <th>first</th>\n",
              "      <th>time</th>\n",
              "      <th>issue</th>\n",
              "      <th>right</th>\n",
              "      <th>care</th>\n",
              "      <th>back</th>\n",
              "      <th>...</th>\n",
              "      <th>far</th>\n",
              "      <th>cuba</th>\n",
              "      <th>meet</th>\n",
              "      <th>conference</th>\n",
              "      <th>regrets</th>\n",
              "      <th>teachers</th>\n",
              "      <th>salaries</th>\n",
              "      <th>growth</th>\n",
              "      <th>eight</th>\n",
              "      <th>power</th>\n",
              "    </tr>\n",
              "  </thead>\n",
              "  <tbody>\n",
              "    <tr>\n",
              "      <th>1960-09-26</th>\n",
              "      <td>32.0</td>\n",
              "      <td>0.0</td>\n",
              "      <td>17.0</td>\n",
              "      <td>27.0</td>\n",
              "      <td>0.0</td>\n",
              "      <td>0.0</td>\n",
              "      <td>0.0</td>\n",
              "      <td>0.0</td>\n",
              "      <td>0.0</td>\n",
              "      <td>0.0</td>\n",
              "      <td>...</td>\n",
              "      <td>0.0</td>\n",
              "      <td>0.0</td>\n",
              "      <td>0.0</td>\n",
              "      <td>0.0</td>\n",
              "      <td>0.0</td>\n",
              "      <td>24.0</td>\n",
              "      <td>23.0</td>\n",
              "      <td>22.0</td>\n",
              "      <td>18.0</td>\n",
              "      <td>17.0</td>\n",
              "    </tr>\n",
              "    <tr>\n",
              "      <th>1960-10-07</th>\n",
              "      <td>47.0</td>\n",
              "      <td>24.0</td>\n",
              "      <td>19.0</td>\n",
              "      <td>27.0</td>\n",
              "      <td>15.0</td>\n",
              "      <td>23.0</td>\n",
              "      <td>0.0</td>\n",
              "      <td>0.0</td>\n",
              "      <td>0.0</td>\n",
              "      <td>0.0</td>\n",
              "      <td>...</td>\n",
              "      <td>20.0</td>\n",
              "      <td>17.0</td>\n",
              "      <td>16.0</td>\n",
              "      <td>15.0</td>\n",
              "      <td>15.0</td>\n",
              "      <td>0.0</td>\n",
              "      <td>0.0</td>\n",
              "      <td>0.0</td>\n",
              "      <td>0.0</td>\n",
              "      <td>0.0</td>\n",
              "    </tr>\n",
              "    <tr>\n",
              "      <th>1960-10-13</th>\n",
              "      <td>0.0</td>\n",
              "      <td>23.0</td>\n",
              "      <td>17.0</td>\n",
              "      <td>0.0</td>\n",
              "      <td>0.0</td>\n",
              "      <td>0.0</td>\n",
              "      <td>0.0</td>\n",
              "      <td>0.0</td>\n",
              "      <td>0.0</td>\n",
              "      <td>0.0</td>\n",
              "      <td>...</td>\n",
              "      <td>0.0</td>\n",
              "      <td>0.0</td>\n",
              "      <td>0.0</td>\n",
              "      <td>0.0</td>\n",
              "      <td>0.0</td>\n",
              "      <td>0.0</td>\n",
              "      <td>0.0</td>\n",
              "      <td>0.0</td>\n",
              "      <td>0.0</td>\n",
              "      <td>0.0</td>\n",
              "    </tr>\n",
              "    <tr>\n",
              "      <th>1960-10-21</th>\n",
              "      <td>36.0</td>\n",
              "      <td>20.0</td>\n",
              "      <td>28.0</td>\n",
              "      <td>21.0</td>\n",
              "      <td>37.0</td>\n",
              "      <td>0.0</td>\n",
              "      <td>0.0</td>\n",
              "      <td>0.0</td>\n",
              "      <td>0.0</td>\n",
              "      <td>0.0</td>\n",
              "      <td>...</td>\n",
              "      <td>0.0</td>\n",
              "      <td>0.0</td>\n",
              "      <td>0.0</td>\n",
              "      <td>0.0</td>\n",
              "      <td>0.0</td>\n",
              "      <td>0.0</td>\n",
              "      <td>0.0</td>\n",
              "      <td>0.0</td>\n",
              "      <td>0.0</td>\n",
              "      <td>0.0</td>\n",
              "    </tr>\n",
              "    <tr>\n",
              "      <th>1976-09-23</th>\n",
              "      <td>77.0</td>\n",
              "      <td>0.0</td>\n",
              "      <td>0.0</td>\n",
              "      <td>47.0</td>\n",
              "      <td>24.0</td>\n",
              "      <td>31.0</td>\n",
              "      <td>0.0</td>\n",
              "      <td>0.0</td>\n",
              "      <td>0.0</td>\n",
              "      <td>0.0</td>\n",
              "      <td>...</td>\n",
              "      <td>0.0</td>\n",
              "      <td>0.0</td>\n",
              "      <td>0.0</td>\n",
              "      <td>0.0</td>\n",
              "      <td>0.0</td>\n",
              "      <td>0.0</td>\n",
              "      <td>0.0</td>\n",
              "      <td>0.0</td>\n",
              "      <td>0.0</td>\n",
              "      <td>0.0</td>\n",
              "    </tr>\n",
              "  </tbody>\n",
              "</table>\n",
              "<p>5 rows × 248 columns</p>\n",
              "</div>\n",
              "    <div class=\"colab-df-buttons\">\n",
              "\n",
              "  <div class=\"colab-df-container\">\n",
              "    <button class=\"colab-df-convert\" onclick=\"convertToInteractive('df-cfe41f71-5015-440e-af11-2647fa0289f5')\"\n",
              "            title=\"Convert this dataframe to an interactive table.\"\n",
              "            style=\"display:none;\">\n",
              "\n",
              "  <svg xmlns=\"http://www.w3.org/2000/svg\" height=\"24px\" viewBox=\"0 -960 960 960\">\n",
              "    <path d=\"M120-120v-720h720v720H120Zm60-500h600v-160H180v160Zm220 220h160v-160H400v160Zm0 220h160v-160H400v160ZM180-400h160v-160H180v160Zm440 0h160v-160H620v160ZM180-180h160v-160H180v160Zm440 0h160v-160H620v160Z\"/>\n",
              "  </svg>\n",
              "    </button>\n",
              "\n",
              "  <style>\n",
              "    .colab-df-container {\n",
              "      display:flex;\n",
              "      gap: 12px;\n",
              "    }\n",
              "\n",
              "    .colab-df-convert {\n",
              "      background-color: #E8F0FE;\n",
              "      border: none;\n",
              "      border-radius: 50%;\n",
              "      cursor: pointer;\n",
              "      display: none;\n",
              "      fill: #1967D2;\n",
              "      height: 32px;\n",
              "      padding: 0 0 0 0;\n",
              "      width: 32px;\n",
              "    }\n",
              "\n",
              "    .colab-df-convert:hover {\n",
              "      background-color: #E2EBFA;\n",
              "      box-shadow: 0px 1px 2px rgba(60, 64, 67, 0.3), 0px 1px 3px 1px rgba(60, 64, 67, 0.15);\n",
              "      fill: #174EA6;\n",
              "    }\n",
              "\n",
              "    .colab-df-buttons div {\n",
              "      margin-bottom: 4px;\n",
              "    }\n",
              "\n",
              "    [theme=dark] .colab-df-convert {\n",
              "      background-color: #3B4455;\n",
              "      fill: #D2E3FC;\n",
              "    }\n",
              "\n",
              "    [theme=dark] .colab-df-convert:hover {\n",
              "      background-color: #434B5C;\n",
              "      box-shadow: 0px 1px 3px 1px rgba(0, 0, 0, 0.15);\n",
              "      filter: drop-shadow(0px 1px 2px rgba(0, 0, 0, 0.3));\n",
              "      fill: #FFFFFF;\n",
              "    }\n",
              "  </style>\n",
              "\n",
              "    <script>\n",
              "      const buttonEl =\n",
              "        document.querySelector('#df-cfe41f71-5015-440e-af11-2647fa0289f5 button.colab-df-convert');\n",
              "      buttonEl.style.display =\n",
              "        google.colab.kernel.accessAllowed ? 'block' : 'none';\n",
              "\n",
              "      async function convertToInteractive(key) {\n",
              "        const element = document.querySelector('#df-cfe41f71-5015-440e-af11-2647fa0289f5');\n",
              "        const dataTable =\n",
              "          await google.colab.kernel.invokeFunction('convertToInteractive',\n",
              "                                                    [key], {});\n",
              "        if (!dataTable) return;\n",
              "\n",
              "        const docLinkHtml = 'Like what you see? Visit the ' +\n",
              "          '<a target=\"_blank\" href=https://colab.research.google.com/notebooks/data_table.ipynb>data table notebook</a>'\n",
              "          + ' to learn more about interactive tables.';\n",
              "        element.innerHTML = '';\n",
              "        dataTable['output_type'] = 'display_data';\n",
              "        await google.colab.output.renderOutput(dataTable, element);\n",
              "        const docLink = document.createElement('div');\n",
              "        docLink.innerHTML = docLinkHtml;\n",
              "        element.appendChild(docLink);\n",
              "      }\n",
              "    </script>\n",
              "  </div>\n",
              "\n",
              "\n",
              "<div id=\"df-3c922819-f0fe-47a7-b6ce-0799638f859d\">\n",
              "  <button class=\"colab-df-quickchart\" onclick=\"quickchart('df-3c922819-f0fe-47a7-b6ce-0799638f859d')\"\n",
              "            title=\"Suggest charts\"\n",
              "            style=\"display:none;\">\n",
              "\n",
              "<svg xmlns=\"http://www.w3.org/2000/svg\" height=\"24px\"viewBox=\"0 0 24 24\"\n",
              "     width=\"24px\">\n",
              "    <g>\n",
              "        <path d=\"M19 3H5c-1.1 0-2 .9-2 2v14c0 1.1.9 2 2 2h14c1.1 0 2-.9 2-2V5c0-1.1-.9-2-2-2zM9 17H7v-7h2v7zm4 0h-2V7h2v10zm4 0h-2v-4h2v4z\"/>\n",
              "    </g>\n",
              "</svg>\n",
              "  </button>\n",
              "\n",
              "<style>\n",
              "  .colab-df-quickchart {\n",
              "      --bg-color: #E8F0FE;\n",
              "      --fill-color: #1967D2;\n",
              "      --hover-bg-color: #E2EBFA;\n",
              "      --hover-fill-color: #174EA6;\n",
              "      --disabled-fill-color: #AAA;\n",
              "      --disabled-bg-color: #DDD;\n",
              "  }\n",
              "\n",
              "  [theme=dark] .colab-df-quickchart {\n",
              "      --bg-color: #3B4455;\n",
              "      --fill-color: #D2E3FC;\n",
              "      --hover-bg-color: #434B5C;\n",
              "      --hover-fill-color: #FFFFFF;\n",
              "      --disabled-bg-color: #3B4455;\n",
              "      --disabled-fill-color: #666;\n",
              "  }\n",
              "\n",
              "  .colab-df-quickchart {\n",
              "    background-color: var(--bg-color);\n",
              "    border: none;\n",
              "    border-radius: 50%;\n",
              "    cursor: pointer;\n",
              "    display: none;\n",
              "    fill: var(--fill-color);\n",
              "    height: 32px;\n",
              "    padding: 0;\n",
              "    width: 32px;\n",
              "  }\n",
              "\n",
              "  .colab-df-quickchart:hover {\n",
              "    background-color: var(--hover-bg-color);\n",
              "    box-shadow: 0 1px 2px rgba(60, 64, 67, 0.3), 0 1px 3px 1px rgba(60, 64, 67, 0.15);\n",
              "    fill: var(--button-hover-fill-color);\n",
              "  }\n",
              "\n",
              "  .colab-df-quickchart-complete:disabled,\n",
              "  .colab-df-quickchart-complete:disabled:hover {\n",
              "    background-color: var(--disabled-bg-color);\n",
              "    fill: var(--disabled-fill-color);\n",
              "    box-shadow: none;\n",
              "  }\n",
              "\n",
              "  .colab-df-spinner {\n",
              "    border: 2px solid var(--fill-color);\n",
              "    border-color: transparent;\n",
              "    border-bottom-color: var(--fill-color);\n",
              "    animation:\n",
              "      spin 1s steps(1) infinite;\n",
              "  }\n",
              "\n",
              "  @keyframes spin {\n",
              "    0% {\n",
              "      border-color: transparent;\n",
              "      border-bottom-color: var(--fill-color);\n",
              "      border-left-color: var(--fill-color);\n",
              "    }\n",
              "    20% {\n",
              "      border-color: transparent;\n",
              "      border-left-color: var(--fill-color);\n",
              "      border-top-color: var(--fill-color);\n",
              "    }\n",
              "    30% {\n",
              "      border-color: transparent;\n",
              "      border-left-color: var(--fill-color);\n",
              "      border-top-color: var(--fill-color);\n",
              "      border-right-color: var(--fill-color);\n",
              "    }\n",
              "    40% {\n",
              "      border-color: transparent;\n",
              "      border-right-color: var(--fill-color);\n",
              "      border-top-color: var(--fill-color);\n",
              "    }\n",
              "    60% {\n",
              "      border-color: transparent;\n",
              "      border-right-color: var(--fill-color);\n",
              "    }\n",
              "    80% {\n",
              "      border-color: transparent;\n",
              "      border-right-color: var(--fill-color);\n",
              "      border-bottom-color: var(--fill-color);\n",
              "    }\n",
              "    90% {\n",
              "      border-color: transparent;\n",
              "      border-bottom-color: var(--fill-color);\n",
              "    }\n",
              "  }\n",
              "</style>\n",
              "\n",
              "  <script>\n",
              "    async function quickchart(key) {\n",
              "      const quickchartButtonEl =\n",
              "        document.querySelector('#' + key + ' button');\n",
              "      quickchartButtonEl.disabled = true;  // To prevent multiple clicks.\n",
              "      quickchartButtonEl.classList.add('colab-df-spinner');\n",
              "      try {\n",
              "        const charts = await google.colab.kernel.invokeFunction(\n",
              "            'suggestCharts', [key], {});\n",
              "      } catch (error) {\n",
              "        console.error('Error during call to suggestCharts:', error);\n",
              "      }\n",
              "      quickchartButtonEl.classList.remove('colab-df-spinner');\n",
              "      quickchartButtonEl.classList.add('colab-df-quickchart-complete');\n",
              "    }\n",
              "    (() => {\n",
              "      let quickchartButtonEl =\n",
              "        document.querySelector('#df-3c922819-f0fe-47a7-b6ce-0799638f859d button');\n",
              "      quickchartButtonEl.style.display =\n",
              "        google.colab.kernel.accessAllowed ? 'block' : 'none';\n",
              "    })();\n",
              "  </script>\n",
              "</div>\n",
              "\n",
              "    </div>\n",
              "  </div>\n"
            ],
            "text/plain": [
              "            people  make  american  country  first  time  issue  right  care  \\\n",
              "1960-09-26    32.0   0.0      17.0     27.0    0.0   0.0    0.0    0.0   0.0   \n",
              "1960-10-07    47.0  24.0      19.0     27.0   15.0  23.0    0.0    0.0   0.0   \n",
              "1960-10-13     0.0  23.0      17.0      0.0    0.0   0.0    0.0    0.0   0.0   \n",
              "1960-10-21    36.0  20.0      28.0     21.0   37.0   0.0    0.0    0.0   0.0   \n",
              "1976-09-23    77.0   0.0       0.0     47.0   24.0  31.0    0.0    0.0   0.0   \n",
              "\n",
              "            back  ...   far  cuba  meet  conference  regrets  teachers  \\\n",
              "1960-09-26   0.0  ...   0.0   0.0   0.0         0.0      0.0      24.0   \n",
              "1960-10-07   0.0  ...  20.0  17.0  16.0        15.0     15.0       0.0   \n",
              "1960-10-13   0.0  ...   0.0   0.0   0.0         0.0      0.0       0.0   \n",
              "1960-10-21   0.0  ...   0.0   0.0   0.0         0.0      0.0       0.0   \n",
              "1976-09-23   0.0  ...   0.0   0.0   0.0         0.0      0.0       0.0   \n",
              "\n",
              "            salaries  growth  eight  power  \n",
              "1960-09-26      23.0    22.0   18.0   17.0  \n",
              "1960-10-07       0.0     0.0    0.0    0.0  \n",
              "1960-10-13       0.0     0.0    0.0    0.0  \n",
              "1960-10-21       0.0     0.0    0.0    0.0  \n",
              "1976-09-23       0.0     0.0    0.0    0.0  \n",
              "\n",
              "[5 rows x 248 columns]"
            ]
          },
          "execution_count": 5,
          "metadata": {},
          "output_type": "execute_result"
        }
      ],
      "source": [
        "word_df.head()"
      ]
    },
    {
      "cell_type": "code",
      "execution_count": 14,
      "metadata": {
        "id": "swi-qBPbeRbs"
      },
      "outputs": [],
      "source": [
        "\n",
        "# Saving the bar chart race as an MP4 video\n",
        "bcr.bar_chart_race(\n",
        "    df=word_df,\n",
        "    filename='political_debates_3.mp4',  # Save as MP4\n",
        "    title='Common Words in General Election Debates Over Time',\n",
        "    n_bars=7,  # Number of bars (words) to display at a time\n",
        "    period_length=5000,\n",
        "    steps_per_period=1000,\n",
        "    interpolate_period=True\n",
        ")\n",
        "\n"
      ]
    },
    {
      "cell_type": "code",
      "execution_count": 15,
      "metadata": {
        "colab": {
          "base_uri": "https://localhost:8080/"
        },
        "id": "8XGcTNzNeV-C",
        "outputId": "92f93eb1-2efe-4989-db92-887b54e7c90f"
      },
      "outputs": [
        {
          "output_type": "stream",
          "name": "stdout",
          "text": [
            "We done\n"
          ]
        }
      ],
      "source": [
        "print(\"We done\")"
      ]
    },
    {
      "cell_type": "markdown",
      "metadata": {
        "id": "C_7uL1XWLdil"
      },
      "source": [
        "\n",
        "\n",
        "---\n",
        "\n"
      ]
    },
    {
      "cell_type": "code",
      "execution_count": 20,
      "metadata": {
        "id": "65xaf5URv_C-"
      },
      "outputs": [],
      "source": [
        "word_df_accumulated = word_df.copy().reset_index()\n",
        "\n",
        "# Reset the index to access 'Date' as a regular column\n",
        "word_df_accumulated = word_df_accumulated.rename(columns={'index': 'Date'})\n",
        "\n",
        "# Iterate through each row (debate) and accumulate word counts\n",
        "for i in range(1, len(word_df_accumulated)):\n",
        "    # Get previous and current dates\n",
        "    prev_date = word_df_accumulated.loc[i - 1, 'Date']\n",
        "    current_date = word_df_accumulated.loc[i, 'Date']\n",
        "\n",
        "    # Get previous and current word counts as dictionaries\n",
        "    prev_words = word_df_accumulated.loc[i - 1].drop('Date').to_dict()\n",
        "    current_words = word_df_accumulated.loc[i].drop('Date').to_dict()\n",
        "\n",
        "    # Accumulate counts for words that appeared before and are mentioned again\n",
        "    for word, count in current_words.items():\n",
        "        if word in prev_words and prev_words[word] > 0:  # Check if word existed before\n",
        "            current_words[word] += prev_words[word]  # Accumulate the count\n",
        "\n",
        "    # Update the current row with the accumulated word counts\n",
        "    # Use word_df_accumulated.columns != 'Date' to select all columns except 'Date'\n",
        "    word_df_accumulated.loc[i, word_df_accumulated.columns != 'Date'] = pd.Series(current_words)\n",
        "\n",
        "# Set 'Date' back as the index\n",
        "word_df_accumulated.set_index('Date', inplace=True)\n",
        "\n",
        "# Now generate the bar chart race using the accumulated word counts\n",
        "bcr.bar_chart_race(\n",
        "    df=word_df_accumulated,  # Use the accumulated DataFrame\n",
        "    filename='ge_accumulation_2.mp4',  # Save to file\n",
        "    title='Accumulated Common Words in General Electioin Debates Over Time',\n",
        "    n_bars=7,\n",
        "    period_length=1000,\n",
        "    steps_per_period=200,\n",
        "    interpolate_period=True\n",
        ")"
      ]
    },
    {
      "cell_type": "code",
      "execution_count": null,
      "metadata": {
        "id": "02ClmJqpv_KT"
      },
      "outputs": [],
      "source": []
    },
    {
      "cell_type": "markdown",
      "metadata": {
        "id": "AH_9U8jALrI2"
      },
      "source": []
    },
    {
      "cell_type": "code",
      "execution_count": null,
      "metadata": {
        "id": "h6dQul4Rv_Ry"
      },
      "outputs": [],
      "source": []
    },
    {
      "cell_type": "code",
      "execution_count": null,
      "metadata": {
        "id": "pmDvZm-NLqFi"
      },
      "outputs": [],
      "source": []
    }
  ],
  "metadata": {
    "colab": {
      "provenance": []
    },
    "kernelspec": {
      "display_name": "Python 3",
      "name": "python3"
    },
    "language_info": {
      "name": "python"
    }
  },
  "nbformat": 4,
  "nbformat_minor": 0
}